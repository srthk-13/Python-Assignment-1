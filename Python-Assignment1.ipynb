{
 "cells": [
  {
   "cell_type": "code",
   "execution_count": 3,
   "id": "37250a1e-683e-46c7-9e55-4b55de04ecf9",
   "metadata": {},
   "outputs": [
    {
     "name": "stdin",
     "output_type": "stream",
     "text": [
      "Enter the list 45 12 77 66 33\n"
     ]
    },
    {
     "name": "stdout",
     "output_type": "stream",
     "text": [
      "66\n"
     ]
    }
   ],
   "source": [
    "num=list(map(int,input(\"Enter the list\").split()))\n",
    "max1=max2=float('-inf')\n",
    "for i in num:\n",
    "    if i>max1:\n",
    "        max2=max1\n",
    "        max1=i\n",
    "    elif max1>i>max2:\n",
    "        max2=i;\n",
    "print(max2)"
   ]
  },
  {
   "cell_type": "code",
   "execution_count": 5,
   "id": "3890b6e5-ebf9-419e-89bd-5a1e4b889a84",
   "metadata": {},
   "outputs": [
    {
     "name": "stdin",
     "output_type": "stream",
     "text": [
      "Enter the list: 21 54 54 21 35 66 878 8 77 64 878\n"
     ]
    },
    {
     "name": "stdout",
     "output_type": "stream",
     "text": [
      "[8, 21, 35, 54, 64, 66, 77, 878]\n"
     ]
    }
   ],
   "source": [
    "num=list(map(int,input(\"Enter the list:\").split()))\n",
    "unique=[]\n",
    "for i in num:\n",
    "    if i not in unique:\n",
    "        unique.append(i)\n",
    "print(sorted(unique))"
   ]
  },
  {
   "cell_type": "code",
   "execution_count": 7,
   "id": "e89f6810-780d-47ae-8ff8-8db52b9b0019",
   "metadata": {},
   "outputs": [
    {
     "name": "stdin",
     "output_type": "stream",
     "text": [
      "Enter the input: 1 2 3 4 5\n"
     ]
    },
    {
     "name": "stdout",
     "output_type": "stream",
     "text": [
      "Sum: 15  Average: 3\n"
     ]
    }
   ],
   "source": [
    "num=list(map(int,input(\"Enter the input:\").split()))\n",
    "sum=0\n",
    "for i in num:\n",
    "    sum+=i\n",
    "print(\"Sum:\",sum,\" Average:\",sum/len(num))"
   ]
  },
  {
   "cell_type": "code",
   "execution_count": 14,
   "id": "9bf3b7eb-1e43-4803-91e1-8e60524f2c5a",
   "metadata": {},
   "outputs": [
    {
     "name": "stdin",
     "output_type": "stream",
     "text": [
      "Enter a number:  5\n"
     ]
    },
    {
     "name": "stdout",
     "output_type": "stream",
     "text": [
      "Prime number!\n"
     ]
    }
   ],
   "source": [
    "n=int(input(\"Enter a number: \"))\n",
    "check=False\n",
    "if n<2:\n",
    "    check=True\n",
    "else:\n",
    "    for i in range(2, int(n**0.5) + 1):\n",
    "        if n%i==0:\n",
    "            check=True\n",
    "            break\n",
    "if check:\n",
    "    print(\"Non-Prime number!\")\n",
    "else:\n",
    "    print(\"Prime number!\")"
   ]
  },
  {
   "cell_type": "code",
   "execution_count": 16,
   "id": "9087e980-3b1a-4d99-b62e-02146f8c46bd",
   "metadata": {},
   "outputs": [
    {
     "name": "stdin",
     "output_type": "stream",
     "text": [
      "Enter a String: adsfgASDS21#$%\n"
     ]
    },
    {
     "name": "stdout",
     "output_type": "stream",
     "text": [
      "Vowels: 2  Consonants: 7  Digits: 2 Special characters: 3\n"
     ]
    }
   ],
   "source": [
    "str=input(\"Enter a String:\")\n",
    "vowels=\"aeiouAEIOU\"\n",
    "vowel=consonant=num=special=0\n",
    "for i in str:\n",
    "    if i.isalpha():\n",
    "        if i in vowels:\n",
    "            vowel+=1\n",
    "        else:\n",
    "            consonant+=1;\n",
    "    elif i.isdigit():\n",
    "        num+=1\n",
    "    else:\n",
    "        special+=1\n",
    "print(\"Vowels:\",vowel,\" Consonants:\",consonant,\" Digits:\",num,\"Special characters:\",special)"
   ]
  },
  {
   "cell_type": "code",
   "execution_count": 19,
   "id": "64ab6f86-d463-4a86-96d5-ec77b6df6999",
   "metadata": {},
   "outputs": [
    {
     "name": "stdout",
     "output_type": "stream",
     "text": [
      "[2, 4, 6, 8, 10, 12, 14, 16, 18, 20, 22, 24, 26, 28, 30, 32, 34, 36, 38, 40, 42, 44, 46, 48, 50, 52, 54, 56, 58, 60, 62, 64, 66, 68, 70, 72, 74, 76, 78, 80, 82, 84, 86, 88, 90, 92, 94, 96, 98, 100]\n"
     ]
    }
   ],
   "source": [
    "l=[]\n",
    "for  i in range(1,101):\n",
    "    if i%2==0:\n",
    "        l.append(i)\n",
    "print(l)"
   ]
  },
  {
   "cell_type": "code",
   "execution_count": 20,
   "id": "78291a31-22d1-460a-98a8-4df6fceca45a",
   "metadata": {},
   "outputs": [
    {
     "name": "stdin",
     "output_type": "stream",
     "text": [
      " 5\n"
     ]
    },
    {
     "name": "stdout",
     "output_type": "stream",
     "text": [
      "5\n",
      "10\n",
      "15\n",
      "20\n",
      "25\n",
      "30\n",
      "35\n",
      "40\n",
      "45\n",
      "50\n"
     ]
    }
   ],
   "source": [
    "num=int(input())\n",
    "for i in range(1,11):\n",
    "    print(i*num)"
   ]
  },
  {
   "cell_type": "code",
   "execution_count": 21,
   "id": "de346a36-3c59-4f0a-b1ca-1a6b582606ee",
   "metadata": {},
   "outputs": [
    {
     "name": "stdout",
     "output_type": "stream",
     "text": [
      "[15, 30, 45, 60, 75, 90]\n"
     ]
    }
   ],
   "source": [
    "l=[]\n",
    "for i in range(1,101):\n",
    "    if i%3==0 and i%5==0:\n",
    "        l.append(i)\n",
    "print(l)"
   ]
  },
  {
   "cell_type": "code",
   "execution_count": 23,
   "id": "775fed49-0249-4341-a494-b63620a82a54",
   "metadata": {},
   "outputs": [
    {
     "name": "stdin",
     "output_type": "stream",
     "text": [
      " 4587\n"
     ]
    },
    {
     "name": "stdout",
     "output_type": "stream",
     "text": [
      "Reverse: 7854\n"
     ]
    }
   ],
   "source": [
    "num=input()\n",
    "print(\"Reverse:\",num[::-1])    "
   ]
  },
  {
   "cell_type": "code",
   "execution_count": 27,
   "id": "11242cd4-0984-41eb-9845-d94f88b32769",
   "metadata": {},
   "outputs": [
    {
     "name": "stdin",
     "output_type": "stream",
     "text": [
      "Enter a string:  asdas\n"
     ]
    },
    {
     "name": "stdout",
     "output_type": "stream",
     "text": [
      "Character frequencies: {'a': 2, 's': 2, 'd': 1}\n"
     ]
    }
   ],
   "source": [
    "str=input(\"Enter a string: \")\n",
    "freq={}\n",
    "for char in str:\n",
    "    if char in freq:\n",
    "        freq[char]+=1\n",
    "    else:\n",
    "        freq[char]=1\n",
    "print(\"Character frequencies:\", freq)\n"
   ]
  },
  {
   "cell_type": "code",
   "execution_count": 30,
   "id": "7ab58155-de7f-4594-b40f-68facb5b8698",
   "metadata": {},
   "outputs": [
    {
     "name": "stdin",
     "output_type": "stream",
     "text": [
      "Enter how many prime numbers to generate:  5\n"
     ]
    },
    {
     "name": "stdout",
     "output_type": "stream",
     "text": [
      "2 3 5 7 11 "
     ]
    }
   ],
   "source": [
    "n=int(input(\"Enter how many prime numbers to generate: \"))\n",
    "count=0\n",
    "num=2\n",
    "while count<n:\n",
    "    is_prime=True\n",
    "    for i in range(2, int(num**0.5)+1):\n",
    "        if num%i==0:\n",
    "            is_prime=False\n",
    "            break\n",
    "    if is_prime:\n",
    "        print(num,end=' ')\n",
    "        count+=1\n",
    "    num+=1    "
   ]
  },
  {
   "cell_type": "code",
   "execution_count": 33,
   "id": "b7070c73-0181-4492-aeb8-5150b444417c",
   "metadata": {},
   "outputs": [
    {
     "name": "stdin",
     "output_type": "stream",
     "text": [
      " 455\n"
     ]
    },
    {
     "name": "stdout",
     "output_type": "stream",
     "text": [
      "Not a Palindrome!\n"
     ]
    }
   ],
   "source": [
    "num=input()\n",
    "rev=num[::-1]\n",
    "if num==rev:\n",
    "    print(\"Palindrome!\")\n",
    "else:\n",
    "    print(\"Not a Palindrome!\")"
   ]
  },
  {
   "cell_type": "code",
   "execution_count": 34,
   "id": "c88e1b93-2075-4d41-80b5-5a40d573f476",
   "metadata": {},
   "outputs": [
    {
     "name": "stdin",
     "output_type": "stream",
     "text": [
      " 4 5 6 7 8 9 3 1 4 9 32 41 9 6 46 6 44 4 654 54 654 654 6546 54 54323 132 8797\n",
      "Enter the specific element to search: 5\n"
     ]
    },
    {
     "name": "stdout",
     "output_type": "stream",
     "text": [
      "Total Occurence: 1\n"
     ]
    }
   ],
   "source": [
    "l=list(map(int,input().split()))\n",
    "specific=int(input(\"Enter the specific element to search:\"))\n",
    "ct=0\n",
    "for i in l:\n",
    "    if i==specific:\n",
    "        ct+=1\n",
    "print(\"Total Occurence:\",ct)"
   ]
  },
  {
   "cell_type": "code",
   "execution_count": 35,
   "id": "1fdf7f10-c9fb-40a9-86f3-f4ae75a87972",
   "metadata": {},
   "outputs": [
    {
     "name": "stdout",
     "output_type": "stream",
     "text": [
      "[4, 16, 36, 64, 100, 144, 196, 256, 324, 400, 484, 576, 676, 784, 900, 1024, 1156, 1296, 1444, 1600, 1764, 1936, 2116, 2304, 2500]\n"
     ]
    }
   ],
   "source": [
    "l=[]\n",
    "for i in range(1,51):\n",
    "    if i%2==0:\n",
    "        l.append(i**2)\n",
    "print(l)"
   ]
  },
  {
   "cell_type": "code",
   "execution_count": 38,
   "id": "d9ddc270-c69b-4bb2-9abc-022a8bb4b5f4",
   "metadata": {},
   "outputs": [
    {
     "name": "stdin",
     "output_type": "stream",
     "text": [
      " 4 5 6 1 23 4 5 63 1 78 6 5 2 7 8 78\n"
     ]
    },
    {
     "name": "stdout",
     "output_type": "stream",
     "text": [
      "[4, 5, 6, 1, 23, 63, 78, 2, 7, 8]\n"
     ]
    }
   ],
   "source": [
    "l=list(map(int,input().split()))\n",
    "unique=[]\n",
    "for i in l:\n",
    "    if i not in unique:\n",
    "        unique.append(i)\n",
    "print(unique)"
   ]
  },
  {
   "cell_type": "code",
   "execution_count": 42,
   "id": "1c27abd2-9700-47bc-a4fd-0d32dcb4fbf5",
   "metadata": {},
   "outputs": [
    {
     "name": "stdin",
     "output_type": "stream",
     "text": [
      " 4\n"
     ]
    },
    {
     "name": "stdout",
     "output_type": "stream",
     "text": [
      "Even!\n"
     ]
    }
   ],
   "source": [
    "def check(num):\n",
    "    s=\"Odd!\"\n",
    "    if num%2==0:\n",
    "        s=\"Even!\"\n",
    "        return s\n",
    "    else:\n",
    "        return s\n",
    "n=int(input())\n",
    "print(check(n))\n"
   ]
  },
  {
   "cell_type": "code",
   "execution_count": 2,
   "id": "163a8e09-f7b6-4532-a603-c192f9871595",
   "metadata": {},
   "outputs": [
    {
     "name": "stdin",
     "output_type": "stream",
     "text": [
      "Enter the list: 4 5 6 3\n"
     ]
    },
    {
     "name": "stdout",
     "output_type": "stream",
     "text": [
      "[4, 9, 15, 18]\n"
     ]
    }
   ],
   "source": [
    "def csum(num):\n",
    "    l=[]\n",
    "    cs=0\n",
    "    for i in num:\n",
    "        cs+=i\n",
    "        l.append(cs)\n",
    "    return l\n",
    "n=list(map(int,input(\"Enter the list:\").split()))\n",
    "print(csum(n))\n",
    "    "
   ]
  },
  {
   "cell_type": "code",
   "execution_count": 7,
   "id": "6f79dca7-fbf3-4b04-b821-2e56fd493ca3",
   "metadata": {},
   "outputs": [
    {
     "name": "stdin",
     "output_type": "stream",
     "text": [
      " 5\n"
     ]
    },
    {
     "data": {
      "text/plain": [
       "120"
      ]
     },
     "execution_count": 7,
     "metadata": {},
     "output_type": "execute_result"
    }
   ],
   "source": [
    "def recursion(n):\n",
    "    if(n==0 or n==1):\n",
    "        return 1\n",
    "    else:\n",
    "        return n*recursion(n-1)\n",
    "n=int(input())\n",
    "recursion(n)"
   ]
  },
  {
   "cell_type": "code",
   "execution_count": 13,
   "id": "b2a95f4c-dc85-4f89-896a-0f19fdabb6bd",
   "metadata": {},
   "outputs": [
    {
     "name": "stdin",
     "output_type": "stream",
     "text": [
      " 7\n"
     ]
    },
    {
     "name": "stdout",
     "output_type": "stream",
     "text": [
      "[0, 1, 1, 2, 3, 5, 8]\n"
     ]
    }
   ],
   "source": [
    "def fib(n):\n",
    "    a,b=0,1\n",
    "    l=[]\n",
    "    l.append(a)\n",
    "    l.append(b)\n",
    "    for i in range(3,n+1):\n",
    "        c=a+b\n",
    "        l.append(c)\n",
    "        a,b=b,c\n",
    "    return l\n",
    "n=int(input())\n",
    "print(fib(n))"
   ]
  },
  {
   "cell_type": "code",
   "execution_count": 20,
   "id": "596efdc9-45b0-4ba8-932c-00105d0d6442",
   "metadata": {},
   "outputs": [
    {
     "name": "stdin",
     "output_type": "stream",
     "text": [
      " asdfdsa\n"
     ]
    },
    {
     "name": "stdout",
     "output_type": "stream",
     "text": [
      "Palindrome String!\n"
     ]
    }
   ],
   "source": [
    "def palindrome(str):\n",
    "    rev=str[::-1]\n",
    "    if str==rev:\n",
    "        return True\n",
    "    else:\n",
    "        return False\n",
    "str=input()\n",
    "if palindrome(str):\n",
    "    print(\"Palindrome String!\")\n",
    "else:\n",
    "    print(\"Not a Palindrome!\")"
   ]
  },
  {
   "cell_type": "code",
   "execution_count": 22,
   "id": "0489a6fb-eb2b-484d-8892-1438c65ff9a8",
   "metadata": {},
   "outputs": [
    {
     "name": "stdin",
     "output_type": "stream",
     "text": [
      " 4 5 6 8 51 165 46 432 16 846 153 489 46\n"
     ]
    },
    {
     "name": "stdout",
     "output_type": "stream",
     "text": [
      "Maximum Value: 846\n",
      "Minimum Value: 4\n"
     ]
    }
   ],
   "source": [
    "def max_min(l):\n",
    "    max,min=float('-inf'),float('+inf')\n",
    "    for i in l:\n",
    "        if i>max:\n",
    "            max=i\n",
    "        if i<min:\n",
    "            min=i\n",
    "    return max,min\n",
    "l=list(map(int,input().split()))\n",
    "max,min=max_min(l)\n",
    "print(\"Maximum Value:\",max)\n",
    "print(\"Minimum Value:\",min)"
   ]
  },
  {
   "cell_type": "code",
   "execution_count": 25,
   "id": "e50e3901-ba14-4cfd-b415-32f5ae617d75",
   "metadata": {},
   "outputs": [
    {
     "name": "stdin",
     "output_type": "stream",
     "text": [
      "Enter the string: asdfghjklqwertyuiopzxcvbnm\n"
     ]
    },
    {
     "name": "stdout",
     "output_type": "stream",
     "text": [
      "Pangram!\n"
     ]
    }
   ],
   "source": [
    "def is_pangram(str):\n",
    "    str=str.lower()\n",
    "    for ch in 'abcdefghijklmnopqrstuvwxyz':\n",
    "        if ch not in str:\n",
    "            return False\n",
    "    return True\n",
    "str=input(\"Enter the string:\")\n",
    "if is_pangram(str):\n",
    "    print(\"Pangram!\")\n",
    "else:\n",
    "    print(\"Not a Pangram!\")"
   ]
  },
  {
   "cell_type": "code",
   "execution_count": 27,
   "id": "121e9ef7-d176-46cf-9d9c-518a877b96ef",
   "metadata": {},
   "outputs": [
    {
     "name": "stdin",
     "output_type": "stream",
     "text": [
      "Enter the lower limit: 4\n",
      "Enter the upper limit: 15\n"
     ]
    },
    {
     "name": "stdout",
     "output_type": "stream",
     "text": [
      "[5, 7, 11, 13]\n"
     ]
    }
   ],
   "source": [
    "def prime(st,end):\n",
    "    l=[]\n",
    "    for i in range(st, end+1):\n",
    "        if i<2:\n",
    "            continue\n",
    "        for j in range(2,int(i**0.5)+1):\n",
    "            if i%j==0:\n",
    "                break\n",
    "        else:\n",
    "            l.append(i)\n",
    "    return l\n",
    "\n",
    "st,end=int(input(\"Enter the lower limit:\")),int(input(\"Enter the upper limit:\"))\n",
    "print(prime(st,end))"
   ]
  },
  {
   "cell_type": "code",
   "execution_count": 29,
   "id": "89f20f83-53db-4ee2-beb8-fd5b6e8a2d78",
   "metadata": {},
   "outputs": [
    {
     "name": "stdin",
     "output_type": "stream",
     "text": [
      " sadfgASDFSQADXsd\n"
     ]
    },
    {
     "name": "stdout",
     "output_type": "stream",
     "text": [
      "Lowercase letters: 7\n",
      "Uppercase letters: 9\n"
     ]
    }
   ],
   "source": [
    "def case(s):\n",
    "    lower=0\n",
    "    upper=0\n",
    "    for i in s:\n",
    "        if i.isupper():\n",
    "            upper+=1\n",
    "        else:\n",
    "            lower+=1\n",
    "    return lower,upper\n",
    "\n",
    "s=input()\n",
    "l,u=case(s)\n",
    "print(\"Lowercase letters:\",l)\n",
    "print(\"Uppercase letters:\",u)"
   ]
  },
  {
   "cell_type": "code",
   "execution_count": 31,
   "id": "b108cf95-bcb7-42e4-b251-658d892c1775",
   "metadata": {},
   "outputs": [
    {
     "name": "stdin",
     "output_type": "stream",
     "text": [
      " 45612\n"
     ]
    },
    {
     "name": "stdout",
     "output_type": "stream",
     "text": [
      "Sum of digits is: 18\n"
     ]
    }
   ],
   "source": [
    "def sdigit(n):\n",
    "    s=0\n",
    "    while n>0:\n",
    "        rem=n%10\n",
    "        s+=rem\n",
    "        n=n//10\n",
    "    return s\n",
    "n=int(input())\n",
    "print(\"Sum of digits is:\",sdigit(n))"
   ]
  },
  {
   "cell_type": "code",
   "execution_count": 36,
   "id": "ff441f5a-6c1a-4d35-a38a-6b0ca487a13e",
   "metadata": {},
   "outputs": [
    {
     "name": "stdin",
     "output_type": "stream",
     "text": [
      " asd asadasasd  a asdasd\n"
     ]
    },
    {
     "name": "stdout",
     "output_type": "stream",
     "text": [
      "No. of words is: 4\n"
     ]
    }
   ],
   "source": [
    "def count(str):\n",
    "    word=str.split()\n",
    "    return len(word)\n",
    "str=input()\n",
    "print(\"No. of words is:\",count(str))"
   ]
  },
  {
   "cell_type": "code",
   "execution_count": 42,
   "id": "471ef7c8-14ee-4404-9dc0-57a0de6d3729",
   "metadata": {},
   "outputs": [
    {
     "name": "stdin",
     "output_type": "stream",
     "text": [
      "Enter a sentence:  1323 dsdv%$#@\n"
     ]
    },
    {
     "name": "stdout",
     "output_type": "stream",
     "text": [
      "1323 dsdv\n"
     ]
    }
   ],
   "source": [
    "def punctuation(text):\n",
    "    result=\"\"\n",
    "    for i in text:\n",
    "        if i.isalpha() or i.isdigit() or i.isspace():\n",
    "            result+=i\n",
    "    return result\n",
    "text=input(\"Enter a sentence: \")\n",
    "print(punctuation(text))"
   ]
  },
  {
   "cell_type": "code",
   "execution_count": 2,
   "id": "08fab5c3-7fb5-4ab3-b733-700fd296ef44",
   "metadata": {},
   "outputs": [
    {
     "name": "stdin",
     "output_type": "stream",
     "text": [
      " 45\n",
      " 27\n"
     ]
    },
    {
     "name": "stdout",
     "output_type": "stream",
     "text": [
      "9\n"
     ]
    }
   ],
   "source": [
    "def find_gcd(a, b):\n",
    "    while b!=0:\n",
    "        a,b=b,a % b\n",
    "    return a\n",
    "n1=int(input())\n",
    "n2=int(input())\n",
    "print(find_gcd(n1,n2))"
   ]
  },
  {
   "cell_type": "code",
   "execution_count": 5,
   "id": "195cbabf-2e55-429e-b24e-3f4ba30a819e",
   "metadata": {},
   "outputs": [
    {
     "name": "stdin",
     "output_type": "stream",
     "text": [
      " 4 5 6 7 8 6 5\n"
     ]
    },
    {
     "name": "stdout",
     "output_type": "stream",
     "text": [
      "[5, 6]\n"
     ]
    }
   ],
   "source": [
    "def duplicate(l):\n",
    "    seen= set()\n",
    "    duplicates=set()\n",
    "    for i in l:\n",
    "        if i in seen:\n",
    "            duplicates.add(i)\n",
    "        else:\n",
    "            seen.add(i)\n",
    "    return list(duplicates)\n",
    "    \n",
    "l=list(map(int,input().split()))\n",
    "print(duplicate(l))"
   ]
  },
  {
   "cell_type": "code",
   "execution_count": 6,
   "id": "202e3b8e-27d0-41b0-b396-32161bc89c49",
   "metadata": {},
   "outputs": [
    {
     "name": "stdin",
     "output_type": "stream",
     "text": [
      "Enter three numbers: 4545 9878 31321\n"
     ]
    },
    {
     "name": "stdout",
     "output_type": "stream",
     "text": [
      "The largest number is: 31321\n"
     ]
    }
   ],
   "source": [
    "def largest(a,b,c):\n",
    "    if a>b and a>c:\n",
    "        return a\n",
    "    if b>a and b>c:\n",
    "        return b\n",
    "    return c\n",
    "\n",
    "a,b,c=map(int,input(\"Enter three numbers:\").split())\n",
    "print(\"The largest number is:\",largest(a,b,c))"
   ]
  },
  {
   "cell_type": "code",
   "execution_count": 9,
   "id": "c7732f13-6a71-456c-941a-de2e73e9fba7",
   "metadata": {},
   "outputs": [
    {
     "name": "stdin",
     "output_type": "stream",
     "text": [
      "Enter a sentence: gfh a d tgerd g\n"
     ]
    },
    {
     "name": "stdout",
     "output_type": "stream",
     "text": [
      "Alphabetical arrangment: a d g gfh tgerd\n"
     ]
    }
   ],
   "source": [
    "str=input(\"Enter a sentence:\")\n",
    "word=str.split()\n",
    "word.sort()\n",
    "print(\"Alphabetical arrangment:\",\" \".join(word))"
   ]
  },
  {
   "cell_type": "code",
   "execution_count": 13,
   "id": "0202495b-bec3-4582-b615-288836785b7b",
   "metadata": {},
   "outputs": [
    {
     "name": "stdout",
     "output_type": "stream",
     "text": [
      "{'a': 1, 'b': 2, 'c': 3, 'd': 4}\n"
     ]
    }
   ],
   "source": [
    "dict1={'a':1, 'b':2}\n",
    "dict2={'c':3, 'd':4}\n",
    "dict1.update(dict2)\n",
    "print(dict1)"
   ]
  },
  {
   "cell_type": "code",
   "execution_count": 18,
   "id": "a4a54b72-ed48-441e-a2c6-461d5de91877",
   "metadata": {},
   "outputs": [
    {
     "name": "stdin",
     "output_type": "stream",
     "text": [
      " asdfg rtyuiop zxcvb wertyuio\n"
     ]
    },
    {
     "name": "stdout",
     "output_type": "stream",
     "text": [
      "[1, 3, 0, 4]\n"
     ]
    }
   ],
   "source": [
    "str=input()\n",
    "l=[]\n",
    "for i in str.split():\n",
    "    ct=0\n",
    "    for j in i:\n",
    "        if j in 'aeiouAEIOU':\n",
    "            ct+=1\n",
    "    l.append(ct)\n",
    "print(l)"
   ]
  },
  {
   "cell_type": "code",
   "execution_count": 20,
   "id": "87be4679-8104-49ee-b8de-ac5ed4389896",
   "metadata": {},
   "outputs": [
    {
     "name": "stdin",
     "output_type": "stream",
     "text": [
      " 3 3434 543 5\n"
     ]
    },
    {
     "name": "stdout",
     "output_type": "stream",
     "text": [
      "Tuple: (3, 3434, 543, 5)\n",
      "List: [3, 3434, 543, 5]\n"
     ]
    }
   ],
   "source": [
    "tup=tuple(map(int,input().split()))\n",
    "print(\"Tuple:\",tup)\n",
    "lst=list(tup)\n",
    "print('List:',lst)"
   ]
  },
  {
   "cell_type": "code",
   "execution_count": 25,
   "id": "127b3408-ccb7-4fb1-b83c-a09309f5bc2c",
   "metadata": {},
   "outputs": [
    {
     "name": "stdin",
     "output_type": "stream",
     "text": [
      "Enter a string:  gdfgdf gd gg sdf\n"
     ]
    },
    {
     "name": "stdout",
     "output_type": "stream",
     "text": [
      "gdfgdfgdggsdf\n"
     ]
    }
   ],
   "source": [
    "def remove(s):\n",
    "    return \"\".join(c for c in s if not c.isspace())\n",
    "text=input(\"Enter a string: \")\n",
    "print(remove(text))"
   ]
  },
  {
   "cell_type": "code",
   "execution_count": 26,
   "id": "0b136c0b-1cb5-4bbe-8c16-0cc3a2275587",
   "metadata": {},
   "outputs": [
    {
     "name": "stdin",
     "output_type": "stream",
     "text": [
      "Enter key: f ds df gdfs \n",
      " 44 5 69 8\n"
     ]
    },
    {
     "name": "stdout",
     "output_type": "stream",
     "text": [
      "Dictionary: {'f': 44, 'ds': 5, 'df': 69, 'gdfs': 8}\n"
     ]
    }
   ],
   "source": [
    "key=input(\"Enter key:\").split()\n",
    "value=list(map(int,input().split()))\n",
    "result=dict(zip(key,value))\n",
    "print(\"Dictionary:\",result)"
   ]
  },
  {
   "cell_type": "code",
   "execution_count": 27,
   "id": "d6586c02-4c2c-40d7-8e6c-bcec86531c9d",
   "metadata": {},
   "outputs": [
    {
     "name": "stdout",
     "output_type": "stream",
     "text": [
      "Key with maximum value: d\n"
     ]
    }
   ],
   "source": [
    "data = {'a': 10, 'b': 25, 'c': 7, 'd': 42}\n",
    "max= max(data,key=data.get)\n",
    "print(\"Key with maximum value:\",max)"
   ]
  },
  {
   "cell_type": "code",
   "execution_count": 1,
   "id": "117c67a2-89ca-4b75-9b96-734975ac1adf",
   "metadata": {},
   "outputs": [
    {
     "name": "stdin",
     "output_type": "stream",
     "text": [
      "Enter a sentence:  hello hi hello dsgdfg ds hi\n"
     ]
    },
    {
     "name": "stdout",
     "output_type": "stream",
     "text": [
      "Word Frequencies: {'hello': 2, 'hi': 2, 'dsgdfg': 1, 'ds': 1}\n"
     ]
    }
   ],
   "source": [
    "user=input(\"Enter a sentence: \")\n",
    "words=user.split()\n",
    "word_freq={}\n",
    "for word in words:\n",
    "    word=word.lower()\n",
    "    word_freq[word]=word_freq.get(word, 0)+1\n",
    "print(\"Word Frequencies:\",word_freq)"
   ]
  },
  {
   "cell_type": "code",
   "execution_count": 2,
   "id": "40a092a2-b3fc-4008-bfed-20936dac141b",
   "metadata": {},
   "outputs": [
    {
     "name": "stdin",
     "output_type": "stream",
     "text": [
      "Enter the key to check:  hghg\n"
     ]
    },
    {
     "name": "stdout",
     "output_type": "stream",
     "text": [
      "No, 'hghg' does not exist in the dictionary.\n"
     ]
    }
   ],
   "source": [
    "my_dict= {'name':'Ali', 'age':25, 'city':'Kochi'}\n",
    "key= input(\"Enter the key to check: \")\n",
    "if key in my_dict:\n",
    "    print(f\"Yes, '{key}' exists in the dictionary.\")\n",
    "else:\n",
    "    print(f\"No, '{key}' does not exist in the dictionary.\")"
   ]
  },
  {
   "cell_type": "code",
   "execution_count": 4,
   "id": "0733d245-12e2-400c-8a03-90d4cc36de89",
   "metadata": {},
   "outputs": [
    {
     "name": "stdin",
     "output_type": "stream",
     "text": [
      "Enter a string:  asdfgwertyui\n"
     ]
    },
    {
     "name": "stdout",
     "output_type": "stream",
     "text": [
      "Modified string: *sdfgw*rty**\n"
     ]
    }
   ],
   "source": [
    "text= input(\"Enter a string: \")\n",
    "for char in 'aeiouAEIOU':\n",
    "    text= text.replace(char,'*')\n",
    "print(\"Modified string:\",text)"
   ]
  },
  {
   "cell_type": "code",
   "execution_count": 7,
   "id": "d0fa4ea5-8e04-4173-b60a-c99fcb77f81e",
   "metadata": {},
   "outputs": [
    {
     "name": "stdin",
     "output_type": "stream",
     "text": [
      "Enter the filename: java.txt\n"
     ]
    },
    {
     "name": "stdout",
     "output_type": "stream",
     "text": [
      "Oops! The file was not found.\n"
     ]
    }
   ],
   "source": [
    "filename=input(\"Enter the filename:\")\n",
    "try:\n",
    "    with open(filename, \"r\") as file:\n",
    "        contents= file.read()\n",
    "        print(\"File Contents:\")\n",
    "        print(contents)\n",
    "except FileNotFoundError:\n",
    "    print(\"Oops! The file was not found.\")"
   ]
  },
  {
   "cell_type": "code",
   "execution_count": 8,
   "id": "fa73973e-83d4-4774-a67d-749053ab38c0",
   "metadata": {},
   "outputs": [
    {
     "name": "stdin",
     "output_type": "stream",
     "text": [
      "Enter the filename: huigg]\n"
     ]
    },
    {
     "name": "stdout",
     "output_type": "stream",
     "text": [
      "Error: The file does not exist.\n"
     ]
    }
   ],
   "source": [
    "filename= input(\"Enter the filename:\")\n",
    "try:\n",
    "    with open(filename, 'r') as file:\n",
    "        contents= file.read()\n",
    "        words= contents.split()\n",
    "        word_count= len(words)\n",
    "        print(f\"\\nNumber of words in '{filename}': {word_count}\")\n",
    "except FileNotFoundError:\n",
    "    print(\"Error: The file does not exist.\")"
   ]
  },
  {
   "cell_type": "code",
   "execution_count": 9,
   "id": "cd3a8b14-2570-4148-b4f2-0dcd98433c40",
   "metadata": {},
   "outputs": [
    {
     "name": "stdin",
     "output_type": "stream",
     "text": [
      "Enter the source filename:  jfhgshgf\n",
      "Enter the destination filename:  fgvdf\n"
     ]
    },
    {
     "name": "stdout",
     "output_type": "stream",
     "text": [
      "Error: The source file does not exist.\n"
     ]
    }
   ],
   "source": [
    "source_file = input(\"Enter the source filename: \")\n",
    "destination_file = input(\"Enter the destination filename: \")\n",
    "try:\n",
    "    with open(source_file, 'r') as src, open(destination_file, 'w') as dest:\n",
    "        contents = src.read()\n",
    "        dest.write(contents)\n",
    "    print(f\"Contents copied from '{source_file}' to '{destination_file}'.\")\n",
    "except FileNotFoundError:\n",
    "    print(\"Error: The source file does not exist.\")\n",
    "except Exception as e:\n",
    "    print(f\"An error occurred: {e}\")"
   ]
  },
  {
   "cell_type": "code",
   "execution_count": 10,
   "id": "37ca8d04-111f-43d8-844a-755bc886fb53",
   "metadata": {},
   "outputs": [
    {
     "name": "stdin",
     "output_type": "stream",
     "text": [
      "Enter the filename:  dsjgsgf\n"
     ]
    },
    {
     "name": "stdout",
     "output_type": "stream",
     "text": [
      "Error: The file does not exist.\n"
     ]
    }
   ],
   "source": [
    "filename = input(\"Enter the filename: \")\n",
    "try:\n",
    "    with open(filename, 'r') as file:\n",
    "        for line in file:\n",
    "            if len(line.strip()) > 50:\n",
    "                print(line.strip())\n",
    "except FileNotFoundError:\n",
    "    print(\"Error: The file does not exist.\")\n",
    "except Exception as e:\n",
    "    print(f\"An error occurred: {e}\")"
   ]
  },
  {
   "cell_type": "code",
   "execution_count": 11,
   "id": "f04ca45c-80b1-45b4-86ae-624bbf7233f9",
   "metadata": {},
   "outputs": [
    {
     "name": "stdin",
     "output_type": "stream",
     "text": [
      "Enter the filename to write to:  dsgfgsd\n"
     ]
    },
    {
     "name": "stdout",
     "output_type": "stream",
     "text": [
      "List of strings written to 'dsgfgsd' successfully.\n"
     ]
    }
   ],
   "source": [
    "lines = [\n",
    "    \"Python is powerful.\",\n",
    "    \"File handling is simple.\"\n",
    "]\n",
    "filename = input(\"Enter the filename to write to: \")\n",
    "try:\n",
    "    with open(filename, 'w') as file:\n",
    "        for line in lines:\n",
    "            file.write(line + '\\n')\n",
    "    print(f\"List of strings written to '{filename}' successfully.\")\n",
    "except Exception as e:\n",
    "    print(f\"An error occurred: {e}\")"
   ]
  },
  {
   "cell_type": "code",
   "execution_count": 12,
   "id": "a27064e1-4294-4ee7-9016-e28396f46e9c",
   "metadata": {},
   "outputs": [
    {
     "name": "stdin",
     "output_type": "stream",
     "text": [
      "Enter the first number:  5\n",
      "Enter the second number:  0\n"
     ]
    },
    {
     "name": "stdout",
     "output_type": "stream",
     "text": [
      "Error: Division by zero is not allowed.\n"
     ]
    }
   ],
   "source": [
    "try:\n",
    "    num1 = float(input(\"Enter the first number: \"))\n",
    "    num2 = float(input(\"Enter the second number: \"))\n",
    "    result = num1 / num2\n",
    "    print(f\"Result: {num1} / {num2} = {result}\")\n",
    "except ZeroDivisionError:\n",
    "    print(\"Error: Division by zero is not allowed.\")\n",
    "except ValueError:\n",
    "    print(\"Error: Please enter valid numbers.\")\n",
    "except Exception as e:\n",
    "    print(f\"An unexpected error occurred: {e}\")"
   ]
  },
  {
   "cell_type": "code",
   "execution_count": 13,
   "id": "21104879-f2b3-48c6-a2f5-21294f006c7e",
   "metadata": {},
   "outputs": [
    {
     "name": "stdin",
     "output_type": "stream",
     "text": [
      "Enter the first number:  23\n",
      "Enter the second number:  dsf\n"
     ]
    },
    {
     "name": "stdout",
     "output_type": "stream",
     "text": [
      "Invalid input. Please enter a valid number.\n"
     ]
    },
    {
     "name": "stdin",
     "output_type": "stream",
     "text": [
      "Enter the second number:  xcv\n"
     ]
    },
    {
     "name": "stdout",
     "output_type": "stream",
     "text": [
      "Invalid input. Please enter a valid number.\n"
     ]
    },
    {
     "name": "stdin",
     "output_type": "stream",
     "text": [
      "Enter the second number:  3\n"
     ]
    },
    {
     "name": "stdout",
     "output_type": "stream",
     "text": [
      "Result: 23.0 / 3.0 = 7.666666666666667\n"
     ]
    }
   ],
   "source": [
    "while True:\n",
    "    try:\n",
    "        num1 = float(input(\"Enter the first number: \"))\n",
    "        break\n",
    "    except ValueError:\n",
    "        print(\"Invalid input. Please enter a valid number.\")\n",
    "while True:\n",
    "    try:\n",
    "        num2 = float(input(\"Enter the second number: \"))\n",
    "        break\n",
    "    except ValueError:\n",
    "        print(\"Invalid input. Please enter a valid number.\")\n",
    "try:\n",
    "    result = num1 / num2\n",
    "    print(f\"Result: {num1} / {num2} = {result}\")\n",
    "except ZeroDivisionError:\n",
    "    print(\"Error: Division by zero is not allowed.\")"
   ]
  },
  {
   "cell_type": "code",
   "execution_count": 14,
   "id": "0f1bcdb4-0ec2-4cfb-9550-b38a03cc9d96",
   "metadata": {},
   "outputs": [
    {
     "name": "stdin",
     "output_type": "stream",
     "text": [
      "Enter the filename to open:  sdfjg\n"
     ]
    },
    {
     "name": "stdout",
     "output_type": "stream",
     "text": [
      "Error: The file 'sdfjg' was not found.\n"
     ]
    }
   ],
   "source": [
    "filename = input(\"Enter the filename to open: \")\n",
    "try:\n",
    "    with open(filename, 'r') as file:\n",
    "        contents = file.read()\n",
    "        print(\"\\nFile Contents:\\n\")\n",
    "        print(contents)\n",
    "except FileNotFoundError:\n",
    "    print(f\"Error: The file '{filename}' was not found.\")\n",
    "except Exception as e:\n",
    "    print(f\"An unexpected error occurred: {e}\")"
   ]
  },
  {
   "cell_type": "code",
   "execution_count": 15,
   "id": "f1afddf7-32b4-4ed7-8e7d-1836445d7aad",
   "metadata": {},
   "outputs": [
    {
     "name": "stdin",
     "output_type": "stream",
     "text": [
      "Enter an index to access (0 to 4):  7\n"
     ]
    },
    {
     "name": "stdout",
     "output_type": "stream",
     "text": [
      "Error: Index out of range. Please enter a valid index.\n"
     ]
    }
   ],
   "source": [
    "numbers = [10, 20, 30, 40, 50]\n",
    "try:\n",
    "    index = int(input(\"Enter an index to access (0 to 4): \"))\n",
    "    print(f\"Value at index {index}: {numbers[index]}\")\n",
    "except IndexError:\n",
    "    print(\"Error: Index out of range. Please enter a valid index.\")\n",
    "except ValueError:\n",
    "    print(\"Error: Please enter a valid integer.\")\n",
    "except Exception as e:\n",
    "    print(f\"An unexpected error occurred: {e}\")"
   ]
  },
  {
   "cell_type": "code",
   "execution_count": 16,
   "id": "41ffca6e-fe83-401d-b3fb-64ac605d94be",
   "metadata": {},
   "outputs": [
    {
     "name": "stdin",
     "output_type": "stream",
     "text": [
      "Enter a number:  756\n",
      "Enter another number:  0\n"
     ]
    },
    {
     "name": "stdout",
     "output_type": "stream",
     "text": [
      "Error: Cannot divide by zero.\n",
      "This block always runs (finally clause).\n"
     ]
    }
   ],
   "source": [
    "try:\n",
    "    num1 = int(input(\"Enter a number: \"))\n",
    "    num2 = int(input(\"Enter another number: \"))\n",
    "    result = num1 / num2\n",
    "    print(f\"Result: {result}\")\n",
    "except ZeroDivisionError:\n",
    "    print(\"Error: Cannot divide by zero.\")\n",
    "except ValueError:\n",
    "    print(\"Error: Please enter valid integers.\")\n",
    "finally:\n",
    "    print(\"This block always runs (finally clause).\")"
   ]
  },
  {
   "cell_type": "code",
   "execution_count": null,
   "id": "14f91ac0-5e6b-4361-be48-ef16bc38acd6",
   "metadata": {},
   "outputs": [],
   "source": []
  }
 ],
 "metadata": {
  "kernelspec": {
   "display_name": "Python [conda env:base] *",
   "language": "python",
   "name": "conda-base-py"
  },
  "language_info": {
   "codemirror_mode": {
    "name": "ipython",
    "version": 3
   },
   "file_extension": ".py",
   "mimetype": "text/x-python",
   "name": "python",
   "nbconvert_exporter": "python",
   "pygments_lexer": "ipython3",
   "version": "3.12.7"
  }
 },
 "nbformat": 4,
 "nbformat_minor": 5
}
